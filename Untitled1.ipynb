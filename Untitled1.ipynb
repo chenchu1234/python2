{
  "nbformat": 4,
  "nbformat_minor": 0,
  "metadata": {
    "colab": {
      "provenance": []
    },
    "kernelspec": {
      "name": "python3",
      "display_name": "Python 3"
    },
    "language_info": {
      "name": "python"
    }
  },
  "cells": [
    {
      "cell_type": "markdown",
      "source": [
        "#Problem 1\n",
        "#A basket contains 20 mangoes, 35 guavas, and 45 papayas.\n",
        "#Find the percentage of each fruit in the basket.\n"
      ],
      "metadata": {
        "id": "mJdQPJyrMpfL"
      }
    },
    {
      "cell_type": "code",
      "source": [
        "mangoes=20\n",
        "guavas=35\n",
        "papayas=45"
      ],
      "metadata": {
        "id": "kPfZQVyNMyVs"
      },
      "execution_count": null,
      "outputs": []
    },
    {
      "cell_type": "code",
      "source": [
        "total_percentage=mangoes*100/(mangoes+guavas+papayas)\n",
        "print(total_percentage)"
      ],
      "metadata": {
        "colab": {
          "base_uri": "https://localhost:8080/"
        },
        "id": "QRYPPhQdM-eP",
        "outputId": "3b8fb2ec-f9bf-40a7-c29e-50243ddfc3ae"
      },
      "execution_count": null,
      "outputs": [
        {
          "output_type": "stream",
          "name": "stdout",
          "text": [
            "20.0\n"
          ]
        }
      ]
    },
    {
      "cell_type": "code",
      "source": [
        "total_percentage=guavas*100/(mangoes+guavas+papayas)\n",
        "print(total_percentage)"
      ],
      "metadata": {
        "colab": {
          "base_uri": "https://localhost:8080/"
        },
        "id": "cKFnYtqcNZhg",
        "outputId": "153f9daf-85bf-48b5-af03-d991d3a39c1c"
      },
      "execution_count": null,
      "outputs": [
        {
          "output_type": "stream",
          "name": "stdout",
          "text": [
            "35.0\n"
          ]
        }
      ]
    },
    {
      "cell_type": "code",
      "source": [
        "total_percentage=papayas*100/(mangoes+guavas+papayas)\n",
        "print(total_percentage)"
      ],
      "metadata": {
        "colab": {
          "base_uri": "https://localhost:8080/"
        },
        "id": "iGCSitVjNmTj",
        "outputId": "7a1a9ba5-28ac-426d-b8bb-2009637f7e47"
      },
      "execution_count": null,
      "outputs": [
        {
          "output_type": "stream",
          "name": "stdout",
          "text": [
            "45.0\n"
          ]
        }
      ]
    },
    {
      "cell_type": "code",
      "source": [],
      "metadata": {
        "id": "j51itwblNknL"
      },
      "execution_count": null,
      "outputs": []
    },
    {
      "cell_type": "markdown",
      "source": [
        "# Problem 2\n",
        "#In a class of 80 students, 35 are boys and the rest are girls.\n",
        "#Calculate the percentage of boys and girls in the class.\n",
        "\n"
      ],
      "metadata": {
        "id": "LH4Bn4HQN5ST"
      }
    },
    {
      "cell_type": "code",
      "source": [
        "students=80\n",
        "boys=35"
      ],
      "metadata": {
        "id": "3qYeJLLDOFd7"
      },
      "execution_count": null,
      "outputs": []
    },
    {
      "cell_type": "code",
      "source": [
        "girls=students-boys\n",
        "print(girls)"
      ],
      "metadata": {
        "colab": {
          "base_uri": "https://localhost:8080/"
        },
        "id": "kMrGPqH4ORl3",
        "outputId": "f87942e5-3e23-4d65-e50f-4d11169fe369"
      },
      "execution_count": null,
      "outputs": [
        {
          "output_type": "stream",
          "name": "stdout",
          "text": [
            "45\n"
          ]
        }
      ]
    },
    {
      "cell_type": "code",
      "source": [
        "total_percentage=boys*100/(boys+girls)\n",
        "print(total_percentage)"
      ],
      "metadata": {
        "colab": {
          "base_uri": "https://localhost:8080/"
        },
        "id": "kSrEOIV2Onad",
        "outputId": "20e3d70c-0008-4a95-86f1-fc2894136c50"
      },
      "execution_count": null,
      "outputs": [
        {
          "output_type": "stream",
          "name": "stdout",
          "text": [
            "43.75\n"
          ]
        }
      ]
    },
    {
      "cell_type": "code",
      "source": [
        "total_percentage=girls*100/(boys+girls)\n",
        "print(total_percentage)"
      ],
      "metadata": {
        "colab": {
          "base_uri": "https://localhost:8080/"
        },
        "id": "ifhumBYmP1B8",
        "outputId": "4506a009-c3a4-49f6-8ee1-05a94c3d2dcf"
      },
      "execution_count": null,
      "outputs": [
        {
          "output_type": "stream",
          "name": "stdout",
          "text": [
            "56.25\n"
          ]
        }
      ]
    },
    {
      "cell_type": "markdown",
      "source": [
        "# Problem 3\n",
        "#A library has 150 science books, 200 commerce books, and 250 arts books.\n",
        "#Find the percentage of each stream's books in the library.\n"
      ],
      "metadata": {
        "id": "8LG_vYqpQQvR"
      }
    },
    {
      "cell_type": "markdown",
      "source": [
        "#\n"
      ],
      "metadata": {
        "id": "Uks72i-WQGyD"
      }
    },
    {
      "cell_type": "markdown",
      "source": [],
      "metadata": {
        "id": "JcLwnzAIQuHg"
      }
    },
    {
      "cell_type": "code",
      "source": [
        "science_books=150\n",
        "commerce_books=200\n",
        "arts_books=250"
      ],
      "metadata": {
        "id": "nJfnpAV8QeAj"
      },
      "execution_count": null,
      "outputs": []
    },
    {
      "cell_type": "code",
      "source": [
        "total_percentage=science_books*100/(science_books+commerce_books+arts_books)\n",
        "print(total_percentage)"
      ],
      "metadata": {
        "colab": {
          "base_uri": "https://localhost:8080/"
        },
        "id": "T1_E2y4UQBQB",
        "outputId": "00d7bdf2-8bd6-4c15-b471-aced1a17b37e"
      },
      "execution_count": null,
      "outputs": [
        {
          "output_type": "stream",
          "name": "stdout",
          "text": [
            "25.0\n"
          ]
        }
      ]
    },
    {
      "cell_type": "code",
      "source": [
        "total_percentage=commerce_books*100/(science_books+commerce_books+arts_books)\n",
        "print(total_percentage)"
      ],
      "metadata": {
        "colab": {
          "base_uri": "https://localhost:8080/"
        },
        "id": "Zb3htFaYRApQ",
        "outputId": "31903041-a419-4f56-dc39-f14a54d9c6a3"
      },
      "execution_count": null,
      "outputs": [
        {
          "output_type": "stream",
          "name": "stdout",
          "text": [
            "33.333333333333336\n"
          ]
        }
      ]
    },
    {
      "cell_type": "code",
      "source": [
        "total_percentage=arts_books*100/(science_books+commerce_books+arts_books)\n",
        "print(total_percentage)"
      ],
      "metadata": {
        "colab": {
          "base_uri": "https://localhost:8080/"
        },
        "id": "yNBCRjEBRTI-",
        "outputId": "cfd67f73-35f4-4806-dfe4-4d7af27e0d3b"
      },
      "execution_count": null,
      "outputs": [
        {
          "output_type": "stream",
          "name": "stdout",
          "text": [
            "41.666666666666664\n"
          ]
        }
      ]
    },
    {
      "cell_type": "markdown",
      "source": [
        "#Problem 4\n",
        "#In a company, there are 120 software engineers, 80 data analysts, and 50 HR employees.\n",
        "#Calculate the percentage of each type of employee in the company.\n"
      ],
      "metadata": {
        "id": "7r2pB0auRlf_"
      }
    },
    {
      "cell_type": "code",
      "source": [
        "software_engineers=120\n",
        "data_analysts=80\n",
        "HR_employees=50"
      ],
      "metadata": {
        "id": "xsjxfLybRcG9"
      },
      "execution_count": null,
      "outputs": []
    },
    {
      "cell_type": "code",
      "source": [
        "total_percentage=software_engineers*100/(software_engineers+data_analysts+HR_employees)\n",
        "print(total_percentage)"
      ],
      "metadata": {
        "colab": {
          "base_uri": "https://localhost:8080/"
        },
        "id": "HLgNMw-FRwBk",
        "outputId": "f8c04d44-484b-4459-9474-0e27530a51c1"
      },
      "execution_count": null,
      "outputs": [
        {
          "output_type": "stream",
          "name": "stdout",
          "text": [
            "48.0\n"
          ]
        }
      ]
    },
    {
      "cell_type": "code",
      "source": [
        "total_percentage=data_analysts*100/(software_engineers+data_analysts+HR_employees)\n",
        "print(total_percentage)"
      ],
      "metadata": {
        "id": "iFIesXO6SAV9",
        "colab": {
          "base_uri": "https://localhost:8080/"
        },
        "outputId": "19e741c3-5f8d-40fa-f9b0-ecb7283170a8"
      },
      "execution_count": 29,
      "outputs": [
        {
          "output_type": "stream",
          "name": "stdout",
          "text": [
            "32.0\n"
          ]
        }
      ]
    },
    {
      "cell_type": "code",
      "source": [
        "total_percentage=HR_employees*100/(software_engineers+data_analysts+HR_employees)\n",
        "print(total_percentage)"
      ],
      "metadata": {
        "id": "ddaDsZlKSPyN",
        "colab": {
          "base_uri": "https://localhost:8080/"
        },
        "outputId": "36437efd-afd0-462d-c503-d3a41ff353d8"
      },
      "execution_count": 28,
      "outputs": [
        {
          "output_type": "stream",
          "name": "stdout",
          "text": [
            "20.0\n"
          ]
        }
      ]
    },
    {
      "cell_type": "markdown",
      "source": [
        "# Problem 5\n",
        "#A farmer harvested 400 kg of rice, 300 kg of wheat, and 300 kg of maize this season.\n",
        "#Find the percentage of each crop yield.\n"
      ],
      "metadata": {
        "id": "nTidJcFcT_zg"
      }
    },
    {
      "cell_type": "markdown",
      "source": [],
      "metadata": {
        "id": "nfUiq83wVSAx"
      }
    },
    {
      "cell_type": "code",
      "source": [
        "rice=400\n",
        "wheat=300\n",
        "maize=300"
      ],
      "metadata": {
        "id": "vKpAkA3iTshc"
      },
      "execution_count": 32,
      "outputs": []
    },
    {
      "cell_type": "code",
      "source": [
        "total_percentage=rice*100/(rice+wheat+maize)\n",
        "print(total_percentage)"
      ],
      "metadata": {
        "colab": {
          "base_uri": "https://localhost:8080/"
        },
        "id": "Y4uTuAppUole",
        "outputId": "67837b77-f5ad-417b-efa7-1e341e9da10b"
      },
      "execution_count": 33,
      "outputs": [
        {
          "output_type": "stream",
          "name": "stdout",
          "text": [
            "40.0\n"
          ]
        }
      ]
    },
    {
      "cell_type": "code",
      "source": [
        "total_percentage=wheat*100/(rice+wheat+maize)\n",
        "print(total_percentage)"
      ],
      "metadata": {
        "colab": {
          "base_uri": "https://localhost:8080/"
        },
        "id": "jVDtKeRJU1rQ",
        "outputId": "be47ca66-22ba-4f79-8ace-2a47352a4b1e"
      },
      "execution_count": 34,
      "outputs": [
        {
          "output_type": "stream",
          "name": "stdout",
          "text": [
            "30.0\n"
          ]
        }
      ]
    },
    {
      "cell_type": "code",
      "source": [
        "total_percentage=maize*100/(rice+wheat+maize)\n",
        "print(total_percentage)"
      ],
      "metadata": {
        "colab": {
          "base_uri": "https://localhost:8080/"
        },
        "id": "vNQWQHGFU9TQ",
        "outputId": "30a54a08-92d3-411f-a23f-91dadd4de71f"
      },
      "execution_count": 36,
      "outputs": [
        {
          "output_type": "stream",
          "name": "stdout",
          "text": [
            "30.0\n"
          ]
        }
      ]
    },
    {
      "cell_type": "code",
      "source": [],
      "metadata": {
        "id": "1e2-ZQBpVEf-"
      },
      "execution_count": null,
      "outputs": []
    },
    {
      "cell_type": "markdown",
      "source": [
        "#Problem 6\n",
        "#In a survey of 1000 people, 250 prefer tea, 500 prefer coffee, and 250 prefer juice.\n",
        "#Calculate the percentage preference for each drink.\n"
      ],
      "metadata": {
        "id": "m51VzKGGVTwn"
      }
    },
    {
      "cell_type": "code",
      "source": [
        "tea=250\n",
        "coffee=500\n",
        "juice=250"
      ],
      "metadata": {
        "id": "jUHGb5thVW-C"
      },
      "execution_count": 37,
      "outputs": []
    },
    {
      "cell_type": "code",
      "source": [
        "total_percentage=tea*100/(tea+coffee+juice)\n",
        "print(total_percentage)"
      ],
      "metadata": {
        "colab": {
          "base_uri": "https://localhost:8080/"
        },
        "id": "BarGL9o6Vve_",
        "outputId": "4d692d61-7685-449d-ea7f-626696da3363"
      },
      "execution_count": 38,
      "outputs": [
        {
          "output_type": "stream",
          "name": "stdout",
          "text": [
            "25.0\n"
          ]
        }
      ]
    },
    {
      "cell_type": "code",
      "source": [
        "total_percentage=coffee*100/(tea+coffee+juice)\n",
        "print(total_percentage)"
      ],
      "metadata": {
        "colab": {
          "base_uri": "https://localhost:8080/"
        },
        "id": "fOwI3WrZV06S",
        "outputId": "13a0b52f-6fa8-4bd9-bb13-d42ea614a611"
      },
      "execution_count": 39,
      "outputs": [
        {
          "output_type": "stream",
          "name": "stdout",
          "text": [
            "50.0\n"
          ]
        }
      ]
    },
    {
      "cell_type": "code",
      "source": [
        "total_percentage=juice*100/(tea+coffee+juice)\n",
        "print(total_percentage)"
      ],
      "metadata": {
        "colab": {
          "base_uri": "https://localhost:8080/"
        },
        "id": "DngWbazUWAz0",
        "outputId": "c8c3184e-588b-45bf-c3fc-fa1cee3b8902"
      },
      "execution_count": 40,
      "outputs": [
        {
          "output_type": "stream",
          "name": "stdout",
          "text": [
            "25.0\n"
          ]
        }
      ]
    },
    {
      "cell_type": "code",
      "source": [],
      "metadata": {
        "id": "UjdWtiZlWGdw"
      },
      "execution_count": null,
      "outputs": []
    },
    {
      "cell_type": "markdown",
      "source": [
        "#Problem 7\n",
        "#An exam has 20 questions in Maths, 15 in Science, and 25 in English.\n",
        "#Find the percentage of questions for each subject in the paper.\n"
      ],
      "metadata": {
        "id": "qI_8attmWMQb"
      }
    },
    {
      "cell_type": "code",
      "source": [
        "maths=20\n",
        "science=15\n",
        "english=25"
      ],
      "metadata": {
        "id": "gGKz4UItWQPV"
      },
      "execution_count": 41,
      "outputs": []
    },
    {
      "cell_type": "code",
      "source": [
        "total_percentage=maths*100/(maths+science+english)\n",
        "print(total_percentage)"
      ],
      "metadata": {
        "colab": {
          "base_uri": "https://localhost:8080/"
        },
        "id": "-2pWUKOqWbLG",
        "outputId": "a1cfa3a6-0e10-4c44-bd7f-8116219fb956"
      },
      "execution_count": 42,
      "outputs": [
        {
          "output_type": "stream",
          "name": "stdout",
          "text": [
            "33.333333333333336\n"
          ]
        }
      ]
    },
    {
      "cell_type": "markdown",
      "source": [],
      "metadata": {
        "id": "5Ta_InD7Wyln"
      }
    },
    {
      "cell_type": "code",
      "source": [
        "total_percentage=science*100/(maths+science+english)\n",
        "print(total_percentage)"
      ],
      "metadata": {
        "colab": {
          "base_uri": "https://localhost:8080/"
        },
        "id": "br3ty3ZOWflI",
        "outputId": "98f2338c-3d4f-4b92-ed76-8e13ee226d47"
      },
      "execution_count": 43,
      "outputs": [
        {
          "output_type": "stream",
          "name": "stdout",
          "text": [
            "25.0\n"
          ]
        }
      ]
    },
    {
      "cell_type": "code",
      "source": [
        "total_percentage=english*100/(maths+science+english)\n",
        "print(total_percentage)"
      ],
      "metadata": {
        "colab": {
          "base_uri": "https://localhost:8080/"
        },
        "id": "Ssw8ydxGWkux",
        "outputId": "33e1b82f-0391-4826-dad7-c0d960e1242f"
      },
      "execution_count": 44,
      "outputs": [
        {
          "output_type": "stream",
          "name": "stdout",
          "text": [
            "41.666666666666664\n"
          ]
        }
      ]
    },
    {
      "cell_type": "code",
      "source": [],
      "metadata": {
        "id": "CKCY97T5WqZO"
      },
      "execution_count": null,
      "outputs": []
    },
    {
      "cell_type": "markdown",
      "source": [
        "#Problem 8\n",
        "#A shop sold 180 pens, 120 pencils, and 100 erasers in a week.\n",
        "#Calculate the percentage of each item sold.\n",
        "\n"
      ],
      "metadata": {
        "id": "EfaAtD6RW0If"
      }
    },
    {
      "cell_type": "code",
      "source": [
        "pens=180\n",
        "pencils=120\n",
        "erasers=100"
      ],
      "metadata": {
        "id": "__2Nm9LuW3VR"
      },
      "execution_count": 45,
      "outputs": []
    },
    {
      "cell_type": "code",
      "source": [
        "total_percentage=pens*100/(pens+pencils+erasers)\n",
        "print(total_percentage)"
      ],
      "metadata": {
        "colab": {
          "base_uri": "https://localhost:8080/"
        },
        "id": "i_-MVp9GXFgc",
        "outputId": "43c00eb7-e3ff-4dcf-9f8c-00f6920008b4"
      },
      "execution_count": 46,
      "outputs": [
        {
          "output_type": "stream",
          "name": "stdout",
          "text": [
            "45.0\n"
          ]
        }
      ]
    },
    {
      "cell_type": "code",
      "source": [
        "total_percentage=pencils*100/(pens+pencils+erasers)\n",
        "print(total_percentage)"
      ],
      "metadata": {
        "colab": {
          "base_uri": "https://localhost:8080/"
        },
        "id": "IYJUeuKrXER1",
        "outputId": "08abf563-3137-4c93-9421-d5229716b76d"
      },
      "execution_count": 47,
      "outputs": [
        {
          "output_type": "stream",
          "name": "stdout",
          "text": [
            "30.0\n"
          ]
        }
      ]
    },
    {
      "cell_type": "code",
      "source": [
        "total_percentage=erasers*100/(pens+pencils+erasers)\n",
        "print(total_percentage)"
      ],
      "metadata": {
        "colab": {
          "base_uri": "https://localhost:8080/"
        },
        "id": "xsyzg3wDXQZJ",
        "outputId": "6d91439c-cd1c-4a2c-d9fb-04d766fe2e58"
      },
      "execution_count": 48,
      "outputs": [
        {
          "output_type": "stream",
          "name": "stdout",
          "text": [
            "25.0\n"
          ]
        }
      ]
    },
    {
      "cell_type": "code",
      "source": [],
      "metadata": {
        "id": "izaXhsiHXVnG"
      },
      "execution_count": null,
      "outputs": []
    },
    {
      "cell_type": "markdown",
      "source": [
        "#Problem 9\n",
        "#In a company's expenses, 40% is salary, 30% is rent, and the remaining is utilities.\n",
        "#Find the amount spent on utilities if the total monthly expense is ₹2,00,000.\n",
        "\n"
      ],
      "metadata": {
        "id": "lVlQrN-7Xa75"
      }
    },
    {
      "cell_type": "code",
      "source": [
        "salary=40\n",
        "rent=30"
      ],
      "metadata": {
        "id": "pW4A6hZjXfLg"
      },
      "execution_count": 50,
      "outputs": []
    },
    {
      "cell_type": "code",
      "source": [
        "total_percentage=salary*100/(salary+rent)\n",
        "print(total_percentage)"
      ],
      "metadata": {
        "colab": {
          "base_uri": "https://localhost:8080/"
        },
        "id": "-17UdSTAXpVS",
        "outputId": "34acf57e-3a92-4489-e82a-621e71d8bae9"
      },
      "execution_count": 51,
      "outputs": [
        {
          "output_type": "stream",
          "name": "stdout",
          "text": [
            "57.142857142857146\n"
          ]
        }
      ]
    },
    {
      "cell_type": "code",
      "source": [
        "total_percentage=rent*100/(salary+rent)\n",
        "print(total_percentage)"
      ],
      "metadata": {
        "colab": {
          "base_uri": "https://localhost:8080/"
        },
        "id": "Jr68YeGWX3Gp",
        "outputId": "fdc41042-a77c-48a1-d1aa-3eab31057082"
      },
      "execution_count": 52,
      "outputs": [
        {
          "output_type": "stream",
          "name": "stdout",
          "text": [
            "42.857142857142854\n"
          ]
        }
      ]
    },
    {
      "cell_type": "code",
      "source": [],
      "metadata": {
        "id": "601-tXFwX8JF"
      },
      "execution_count": null,
      "outputs": []
    },
    {
      "cell_type": "markdown",
      "source": [
        "#During a college fest, there were 200 students participating in three competitions:\n",
        "\n",
        "#60 in Coding, 80 in Quiz, and 60 in Dance.\n",
        "\n",
        "#You had to guess the number of participants in each competition.\n",
        "\n",
        "#You correctly guessed 45 in Coding,\n",
        "\n",
        "#60 in Quiz,\n",
        "\n",
        "#40 in Dance.\n",
        "\n",
        "✅ Question:\n",
        "#Calculate your accuracy percentage for each competition.\n"
      ],
      "metadata": {
        "id": "9BSO6KKyYK6Q"
      }
    },
    {
      "cell_type": "code",
      "source": [
        "coding=60\n",
        "quiz=80\n",
        "dance=60\n",
        "correcty_guess_cooding=45\n",
        "correcty_guess_quiz=60\n",
        "correcty_guess_dance=40"
      ],
      "metadata": {
        "id": "cerhA8W_YhhR"
      },
      "execution_count": 94,
      "outputs": []
    },
    {
      "cell_type": "code",
      "source": [
        "accuracy_percentage=correcty_guess_cooding*100/(coding)\n",
        "print(accuracy_percentage)"
      ],
      "metadata": {
        "colab": {
          "base_uri": "https://localhost:8080/"
        },
        "id": "rUYgAdOBZVPq",
        "outputId": "dfd133df-1d6d-465b-e375-b036f462e17a"
      },
      "execution_count": 98,
      "outputs": [
        {
          "output_type": "stream",
          "name": "stdout",
          "text": [
            "75.0\n"
          ]
        }
      ]
    },
    {
      "cell_type": "code",
      "source": [
        "acccuracy_percentage=correcty_guess_quiz*100/(quiz)\n",
        "print(accuracy_percentage)"
      ],
      "metadata": {
        "colab": {
          "base_uri": "https://localhost:8080/"
        },
        "id": "eO06dj3zZ7LX",
        "outputId": "abed9775-6851-4b44-834e-5fe73068f7b1"
      },
      "execution_count": 99,
      "outputs": [
        {
          "output_type": "stream",
          "name": "stdout",
          "text": [
            "75.0\n"
          ]
        }
      ]
    },
    {
      "cell_type": "markdown",
      "source": [
        "# Problem 2\n",
        "#In a library, there are 120 books in total:\n",
        "\n",
        "#50 are fiction, 40 are science, and 30 are history books.\n",
        "\n",
        "#Your friend tried to guess the count and correctly guessed:\n",
        "\n",
        "#30 fiction,\n",
        "\n",
        "#25 science,\n",
        "\n",
        "#20 history books.\n",
        "\n",
        "✅ Question:\n",
        "#Find your friend's accuracy percentage in each category.\n",
        "\n"
      ],
      "metadata": {
        "id": "JaSk6LHbaILX"
      }
    },
    {
      "cell_type": "code",
      "source": [],
      "metadata": {
        "id": "KVAbLr1ZjqKW"
      },
      "execution_count": null,
      "outputs": []
    },
    {
      "cell_type": "code",
      "source": [
        "fiction=50\n",
        "science=40\n",
        "history=30\n",
        "correcty_guess_fiction=30\n",
        "crrecty_guess_science=25\n",
        "correctly_guess_history=20"
      ],
      "metadata": {
        "id": "f4USsaN2aP1l"
      },
      "execution_count": 86,
      "outputs": []
    },
    {
      "cell_type": "code",
      "source": [
        "accuracy_percentage=correcty_guess_fiction*100/(fiction)\n",
        "print(accuracy_percentage)"
      ],
      "metadata": {
        "colab": {
          "base_uri": "https://localhost:8080/"
        },
        "id": "2nn2aEwqajVj",
        "outputId": "cbff8ea1-3c2d-4cb1-e48e-ad70675f4c5f"
      },
      "execution_count": 89,
      "outputs": [
        {
          "output_type": "stream",
          "name": "stdout",
          "text": [
            "60.0\n"
          ]
        }
      ]
    },
    {
      "cell_type": "code",
      "source": [
        "accuracy_percentage=crrecty_guess_science*100/(science)\n",
        "print(accuracy_percentage)"
      ],
      "metadata": {
        "colab": {
          "base_uri": "https://localhost:8080/"
        },
        "id": "pr_shQXIaopi",
        "outputId": "8be7623f-941b-474f-fa08-315fef504f59"
      },
      "execution_count": 92,
      "outputs": [
        {
          "output_type": "stream",
          "name": "stdout",
          "text": [
            "62.5\n"
          ]
        }
      ]
    },
    {
      "cell_type": "markdown",
      "source": [],
      "metadata": {
        "id": "qzbOU6Cyjxhi"
      }
    },
    {
      "cell_type": "code",
      "source": [
        "accuracy_percentage=correctly_guess_history*100/(history)\n",
        "print(accuracy_percentage)\n"
      ],
      "metadata": {
        "colab": {
          "base_uri": "https://localhost:8080/"
        },
        "id": "Fv_07uhpbKsF",
        "outputId": "055f07a8-9097-44af-f17d-052521990714"
      },
      "execution_count": 93,
      "outputs": [
        {
          "output_type": "stream",
          "name": "stdout",
          "text": [
            "66.66666666666667\n"
          ]
        }
      ]
    },
    {
      "cell_type": "markdown",
      "source": [
        "#Problem 3\n",
        "#A survey was conducted with 150 participants:\n",
        "\n",
        "#70 preferred tea, 50 preferred coffee, and 30 preferred juice.\n",
        "\n",
        "#You guessed the numbers and correctly identified:\n",
        "\n",
        "#50 tea lovers,\n",
        "\n",
        "#40 coffee lovers,\n",
        "\n",
        "#20 juice lovers.\n",
        "\n",
        "✅ Question:\n",
        "#Calculate your accuracy percentage for each drink preference.\n"
      ],
      "metadata": {
        "id": "42nefPnvbq9B"
      }
    },
    {
      "cell_type": "code",
      "source": [
        "tea=70\n",
        "coffee=50\n",
        "juice=30\n",
        "correcty_guess_tea=50\n",
        "correcty_guess_coffee=40\n",
        "correcty_guess_juice=20"
      ],
      "metadata": {
        "id": "rqjDPciibz-W"
      },
      "execution_count": 78,
      "outputs": []
    },
    {
      "cell_type": "code",
      "source": [
        "accuracy_percentage=correcty_guess_tea*100/(tea)\n",
        "print(accuracy_percentage)"
      ],
      "metadata": {
        "colab": {
          "base_uri": "https://localhost:8080/"
        },
        "id": "gbOr34UTcArK",
        "outputId": "94f75383-1f72-4883-bf9e-50250bf674c8"
      },
      "execution_count": 80,
      "outputs": [
        {
          "output_type": "stream",
          "name": "stdout",
          "text": [
            "71.42857142857143\n"
          ]
        }
      ]
    },
    {
      "cell_type": "code",
      "source": [
        "accuracy_percentage=correcty_guess_coffee*100/(coffee)\n",
        "print(accuracy_percentage)"
      ],
      "metadata": {
        "colab": {
          "base_uri": "https://localhost:8080/"
        },
        "id": "DyYUlBHRcG6A",
        "outputId": "7430aca5-7c29-4ea3-a615-d76358d52494"
      },
      "execution_count": 84,
      "outputs": [
        {
          "output_type": "stream",
          "name": "stdout",
          "text": [
            "80.0\n"
          ]
        }
      ]
    },
    {
      "cell_type": "code",
      "source": [
        "accuracy_percentage=correcty_guess_juice*100/(juice)\n",
        "print(accuracy_percentage)\n",
        "#"
      ],
      "metadata": {
        "colab": {
          "base_uri": "https://localhost:8080/"
        },
        "id": "x9TrIxg5cMFo",
        "outputId": "2dcf45b0-c7a7-4ae9-9ed3-7d442b0bf64d"
      },
      "execution_count": 85,
      "outputs": [
        {
          "output_type": "stream",
          "name": "stdout",
          "text": [
            "66.66666666666667\n"
          ]
        }
      ]
    },
    {
      "cell_type": "markdown",
      "source": [
        "#Problem 2\n",
        "#For the function f(x) = 2x² + x - 3,\n",
        "\n",
        "✅ Question:\n",
        "#Calculate f(x) at\n",
        "\n",
        "#x = -2\n",
        "\n",
        "#x = 1\n",
        "\n",
        "#x = 3\n"
      ],
      "metadata": {
        "id": "-ip7IKwUkKSq"
      }
    },
    {
      "cell_type": "code",
      "source": [
        "function=2*(-2)**2+(-2)-3\n",
        "print(function)"
      ],
      "metadata": {
        "colab": {
          "base_uri": "https://localhost:8080/"
        },
        "id": "qj9_uefOkVxJ",
        "outputId": "90755caa-b13a-476b-e70a-104ea2277402"
      },
      "execution_count": 100,
      "outputs": [
        {
          "output_type": "stream",
          "name": "stdout",
          "text": [
            "3\n"
          ]
        }
      ]
    },
    {
      "cell_type": "code",
      "source": [
        "function=2*(1)**2+(1)-3\n",
        "print(function)"
      ],
      "metadata": {
        "colab": {
          "base_uri": "https://localhost:8080/"
        },
        "id": "K_UAcYdUkfv7",
        "outputId": "76d8fb7a-c5c3-4ab8-eb40-53a8d53cc8f6"
      },
      "execution_count": 101,
      "outputs": [
        {
          "output_type": "stream",
          "name": "stdout",
          "text": [
            "0\n"
          ]
        }
      ]
    },
    {
      "cell_type": "code",
      "source": [
        "function=2*(3)**2+(3)-3\n",
        "print(function)"
      ],
      "metadata": {
        "colab": {
          "base_uri": "https://localhost:8080/"
        },
        "id": "TlqJHKonkqYF",
        "outputId": "a6ac9bcf-4fbc-4f6f-f9c6-b077ed1f2219"
      },
      "execution_count": 102,
      "outputs": [
        {
          "output_type": "stream",
          "name": "stdout",
          "text": [
            "18\n"
          ]
        }
      ]
    },
    {
      "cell_type": "markdown",
      "source": [
        "#Problem 3\n",
        "#Given f(x) = x² - 4x + 1,\n",
        "\n",
        "✅ Question:\n",
        "#Find the value of f(x) at\n",
        "\n",
        "#x = -1\n",
        "\n",
        "#x = 0\n",
        "\n",
        "#x = 4"
      ],
      "metadata": {
        "id": "x9HduxwHlMfD"
      }
    },
    {
      "cell_type": "code",
      "source": [
        "value=(-1)**2-4*(-1)+1\n",
        "print(value)"
      ],
      "metadata": {
        "colab": {
          "base_uri": "https://localhost:8080/"
        },
        "id": "ex61Siv1lWuS",
        "outputId": "beae5797-aa89-4bec-9874-d4026a63989a"
      },
      "execution_count": 103,
      "outputs": [
        {
          "output_type": "stream",
          "name": "stdout",
          "text": [
            "6\n"
          ]
        }
      ]
    },
    {
      "cell_type": "code",
      "source": [
        "value=(0)**2-4*(0)+1\n",
        "print(value)"
      ],
      "metadata": {
        "colab": {
          "base_uri": "https://localhost:8080/"
        },
        "id": "RN6HPp3zldF5",
        "outputId": "e041fe68-023c-4dbe-e7dd-27b1124c4d23"
      },
      "execution_count": 104,
      "outputs": [
        {
          "output_type": "stream",
          "name": "stdout",
          "text": [
            "1\n"
          ]
        }
      ]
    },
    {
      "cell_type": "code",
      "source": [
        "value=(4)**2-4*(4)+1\n",
        "print(value)"
      ],
      "metadata": {
        "colab": {
          "base_uri": "https://localhost:8080/"
        },
        "id": "13BQGqkalka7",
        "outputId": "bef8fb9f-8fda-4762-cc76-66ff8259854c"
      },
      "execution_count": 106,
      "outputs": [
        {
          "output_type": "stream",
          "name": "stdout",
          "text": [
            "1\n"
          ]
        }
      ]
    },
    {
      "cell_type": "code",
      "source": [],
      "metadata": {
        "id": "lEcNbu5jly_L"
      },
      "execution_count": null,
      "outputs": []
    }
  ]
}